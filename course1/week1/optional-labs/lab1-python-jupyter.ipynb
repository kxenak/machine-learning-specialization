{
 "cells": [
  {
   "cell_type": "code",
   "execution_count": 1,
   "metadata": {},
   "outputs": [
    {
     "name": "stdout",
     "output_type": "stream",
     "text": [
      "Hi, I'm a code cell!\n"
     ]
    }
   ],
   "source": [
    "# This is a code cell.\n",
    "print(\"Hi, I'm a code cell!\")"
   ]
  },
  {
   "cell_type": "code",
   "execution_count": 4,
   "metadata": {},
   "outputs": [
    {
     "name": "stdout",
     "output_type": "stream",
     "text": [
      "Printing the variable: I am a variable.\n"
     ]
    }
   ],
   "source": [
    "# Print statments.\n",
    "var = \"I am a variable.\"\n",
    "print(f\"Printing the variable: {var}\")"
   ]
  }
 ],
 "metadata": {
  "kernelspec": {
   "display_name": "ml-ng",
   "language": "python",
   "name": "python3"
  },
  "language_info": {
   "codemirror_mode": {
    "name": "ipython",
    "version": 3
   },
   "file_extension": ".py",
   "mimetype": "text/x-python",
   "name": "python",
   "nbconvert_exporter": "python",
   "pygments_lexer": "ipython3",
   "version": "3.11.4"
  },
  "orig_nbformat": 4
 },
 "nbformat": 4,
 "nbformat_minor": 2
}
